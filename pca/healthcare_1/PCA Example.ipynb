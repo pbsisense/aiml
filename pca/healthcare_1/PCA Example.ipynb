{
 "cells": [
  {
   "cell_type": "code",
   "execution_count": 1,
   "id": "b4f3843c",
   "metadata": {},
   "outputs": [],
   "source": [
    "import pandas as pd\n",
    "import numpy as np\n",
    "import random as rd\n",
    "\n",
    "from sklearn.decomposition import PCA\n",
    "from sklearn import preprocessing\n",
    "\n",
    "import matplotlib.pyplot as plt\n",
    "#import seaborn as sb"
   ]
  },
  {
   "cell_type": "code",
   "execution_count": 2,
   "id": "23995399",
   "metadata": {},
   "outputs": [],
   "source": [
    "# Create a sample dataset:\n",
    "genes = ['gene' + str(i) for i in range(1, 101)]"
   ]
  },
  {
   "cell_type": "code",
   "execution_count": 3,
   "id": "b9b539bb",
   "metadata": {},
   "outputs": [],
   "source": [
    "# Knockout and wildtype samples:\n",
    "wt = ['wt' + str(i) for i in range(1, 6)]\n",
    "ko = ['ko' + str(i) for i in range(1, 6)]"
   ]
  },
  {
   "cell_type": "code",
   "execution_count": 4,
   "id": "201e83bc",
   "metadata": {},
   "outputs": [],
   "source": [
    "# Added the * to unpack the values of both lists.\n",
    "data = pd.DataFrame(columns=[*wt, *ko], index=genes)"
   ]
  },
  {
   "cell_type": "code",
   "execution_count": 5,
   "id": "e71d9428",
   "metadata": {},
   "outputs": [],
   "source": [
    "for gene in data.index:\n",
    "    data.loc[gene, 'wt1':'wt5'] = np.random.poisson(lam=rd.randrange(10, 1000), size=5)\n",
    "    data.loc[gene, 'ko1':'ko5'] = np.random.poisson(lam=rd.randrange(10, 1000), size=5)"
   ]
  },
  {
   "cell_type": "code",
   "execution_count": 20,
   "id": "9e7a4286",
   "metadata": {},
   "outputs": [
    {
     "data": {
      "text/html": [
       "<div>\n",
       "<style scoped>\n",
       "    .dataframe tbody tr th:only-of-type {\n",
       "        vertical-align: middle;\n",
       "    }\n",
       "\n",
       "    .dataframe tbody tr th {\n",
       "        vertical-align: top;\n",
       "    }\n",
       "\n",
       "    .dataframe thead th {\n",
       "        text-align: right;\n",
       "    }\n",
       "</style>\n",
       "<table border=\"1\" class=\"dataframe\">\n",
       "  <thead>\n",
       "    <tr style=\"text-align: right;\">\n",
       "      <th></th>\n",
       "      <th>wt1</th>\n",
       "      <th>wt2</th>\n",
       "      <th>wt3</th>\n",
       "      <th>wt4</th>\n",
       "      <th>wt5</th>\n",
       "      <th>ko1</th>\n",
       "      <th>ko2</th>\n",
       "      <th>ko3</th>\n",
       "      <th>ko4</th>\n",
       "      <th>ko5</th>\n",
       "    </tr>\n",
       "  </thead>\n",
       "  <tbody>\n",
       "    <tr>\n",
       "      <th>gene1</th>\n",
       "      <td>918</td>\n",
       "      <td>963</td>\n",
       "      <td>894</td>\n",
       "      <td>928</td>\n",
       "      <td>945</td>\n",
       "      <td>356</td>\n",
       "      <td>371</td>\n",
       "      <td>370</td>\n",
       "      <td>334</td>\n",
       "      <td>355</td>\n",
       "    </tr>\n",
       "    <tr>\n",
       "      <th>gene2</th>\n",
       "      <td>440</td>\n",
       "      <td>444</td>\n",
       "      <td>435</td>\n",
       "      <td>421</td>\n",
       "      <td>494</td>\n",
       "      <td>581</td>\n",
       "      <td>572</td>\n",
       "      <td>608</td>\n",
       "      <td>584</td>\n",
       "      <td>636</td>\n",
       "    </tr>\n",
       "    <tr>\n",
       "      <th>gene3</th>\n",
       "      <td>890</td>\n",
       "      <td>826</td>\n",
       "      <td>801</td>\n",
       "      <td>828</td>\n",
       "      <td>797</td>\n",
       "      <td>250</td>\n",
       "      <td>279</td>\n",
       "      <td>241</td>\n",
       "      <td>251</td>\n",
       "      <td>250</td>\n",
       "    </tr>\n",
       "    <tr>\n",
       "      <th>gene4</th>\n",
       "      <td>189</td>\n",
       "      <td>209</td>\n",
       "      <td>151</td>\n",
       "      <td>192</td>\n",
       "      <td>184</td>\n",
       "      <td>686</td>\n",
       "      <td>616</td>\n",
       "      <td>637</td>\n",
       "      <td>646</td>\n",
       "      <td>684</td>\n",
       "    </tr>\n",
       "    <tr>\n",
       "      <th>gene5</th>\n",
       "      <td>242</td>\n",
       "      <td>253</td>\n",
       "      <td>231</td>\n",
       "      <td>223</td>\n",
       "      <td>211</td>\n",
       "      <td>612</td>\n",
       "      <td>611</td>\n",
       "      <td>614</td>\n",
       "      <td>549</td>\n",
       "      <td>582</td>\n",
       "    </tr>\n",
       "  </tbody>\n",
       "</table>\n",
       "</div>"
      ],
      "text/plain": [
       "       wt1  wt2  wt3  wt4  wt5  ko1  ko2  ko3  ko4  ko5\n",
       "gene1  918  963  894  928  945  356  371  370  334  355\n",
       "gene2  440  444  435  421  494  581  572  608  584  636\n",
       "gene3  890  826  801  828  797  250  279  241  251  250\n",
       "gene4  189  209  151  192  184  686  616  637  646  684\n",
       "gene5  242  253  231  223  211  612  611  614  549  582"
      ]
     },
     "execution_count": 20,
     "metadata": {},
     "output_type": "execute_result"
    }
   ],
   "source": [
    "data.head()"
   ]
  },
  {
   "cell_type": "code",
   "execution_count": 7,
   "id": "227a15ad",
   "metadata": {},
   "outputs": [],
   "source": [
    "# Center and scale data to have average value of 0\n",
    "# and a standard deviation of 1.\n",
    "\n",
    "scaled_data = preprocessing.scale(data.T) \n",
    "# ^ a transpose is necessary due to our DataFrame."
   ]
  },
  {
   "cell_type": "code",
   "execution_count": 8,
   "id": "01336353",
   "metadata": {},
   "outputs": [],
   "source": [
    "# Alternatively:\n",
    "# scaled_data = StandardScaler().fit_transform(data.T)"
   ]
  },
  {
   "cell_type": "code",
   "execution_count": 9,
   "id": "209c153f",
   "metadata": {},
   "outputs": [],
   "source": [
    "pca = PCA()"
   ]
  },
  {
   "cell_type": "code",
   "execution_count": 10,
   "id": "e3e69a91",
   "metadata": {},
   "outputs": [
    {
     "data": {
      "text/plain": [
       "PCA()"
      ]
     },
     "execution_count": 10,
     "metadata": {},
     "output_type": "execute_result"
    }
   ],
   "source": [
    "# Calculate the loading scores and variation for each PC.\n",
    "pca.fit(scaled_data)"
   ]
  },
  {
   "cell_type": "code",
   "execution_count": 11,
   "id": "7881e34d",
   "metadata": {},
   "outputs": [],
   "source": [
    "pca_data = pca.transform(scaled_data)"
   ]
  },
  {
   "cell_type": "code",
   "execution_count": 12,
   "id": "23b384be",
   "metadata": {},
   "outputs": [],
   "source": [
    "# Calculate percent of variation for each Principal Component\n",
    "per_var = np.round(pca.explained_variance_ratio_ * 100, decimals=1)"
   ]
  },
  {
   "cell_type": "code",
   "execution_count": 13,
   "id": "9dee34bd",
   "metadata": {},
   "outputs": [],
   "source": [
    "# Create labels for the scree plot.\n",
    "labels = ['PC' + str(x) for x in range(1, len(per_var)+1)] "
   ]
  },
  {
   "cell_type": "code",
   "execution_count": 14,
   "id": "3d7c2762",
   "metadata": {},
   "outputs": [
    {
     "data": {
      "text/plain": [
       "Text(0.5, 1.0, 'Scree Plot')"
      ]
     },
     "execution_count": 14,
     "metadata": {},
     "output_type": "execute_result"
    },
    {
     "data": {
      "image/png": "[encoded data removed]",
      "text/plain": [
       "<Figure size 432x288 with 1 Axes>"
      ]
     },
     "metadata": {
      "needs_background": "light"
     },
     "output_type": "display_data"
    }
   ],
   "source": [
    "plt.bar(x=range(1, len(per_var)+1), height=per_var, tick_label=labels)\n",
    "plt.ylabel('Percentage of Explained Variance')\n",
    "plt.xlabel('Principal Component')\n",
    "plt.title('Scree Plot')"
   ]
  },
  {
   "cell_type": "code",
   "execution_count": 15,
   "id": "6aeb1555",
   "metadata": {},
   "outputs": [],
   "source": [
    "pca_df = pd.DataFrame(pca_data, index=[*wt, *ko], columns=labels)"
   ]
  },
  {
   "cell_type": "code",
   "execution_count": 16,
   "id": "ee709e51",
   "metadata": {},
   "outputs": [
    {
     "data": {
      "image/png": "[encoded data removed]",
      "text/plain": [
       "<Figure size 432x288 with 1 Axes>"
      ]
     },
     "metadata": {
      "needs_background": "light"
     },
     "output_type": "display_data"
    }
   ],
   "source": [
    "plt.scatter(pca_df.PC1, pca_df.PC2)\n",
    "plt.title('My PCA Graph')\n",
    "plt.xlabel(f'PC1 - {per_var[0]}')\n",
    "plt.ylabel(f'PC2 - {per_var[1]}')\n",
    "\n",
    "for sample in pca_df.index:\n",
    "    plt.annotate(sample, (pca_df.PC1.loc[sample], pca_df.PC2.loc[sample]))"
   ]
  },
  {
   "cell_type": "code",
   "execution_count": 17,
   "id": "36bf365e",
   "metadata": {},
   "outputs": [],
   "source": [
    "loading_scores = pd.Series(pca.components_[0], index=genes)\n",
    "sorted_loading_scores = loading_scores.abs().sort_values(ascending=False)\n",
    "top_10_genes = sorted_loading_scores[0:10].index.values"
   ]
  },
  {
   "cell_type": "code",
   "execution_count": 18,
   "id": "352d1811",
   "metadata": {},
   "outputs": [
    {
     "data": {
      "text/plain": [
       "gene84   -0.106600\n",
       "gene39   -0.106563\n",
       "gene91    0.106533\n",
       "gene31   -0.106526\n",
       "gene18   -0.106512\n",
       "gene51   -0.106509\n",
       "gene26    0.106502\n",
       "gene14   -0.106493\n",
       "gene27   -0.106483\n",
       "gene20   -0.106456\n",
       "dtype: float64"
      ]
     },
     "execution_count": 18,
     "metadata": {},
     "output_type": "execute_result"
    }
   ],
   "source": [
    "# Get the 'contribution score for each gene.'\n",
    "loading_scores[top_10_genes]"
   ]
  },
  {
   "cell_type": "code",
   "execution_count": null,
   "id": "76dcc26e",
   "metadata": {},
   "outputs": [],
   "source": []
  },
  {
   "cell_type": "code",
   "execution_count": null,
   "id": "2e5c3088",
   "metadata": {},
   "outputs": [],
   "source": []
  }
 ],
 "metadata": {
  "kernelspec": {
   "display_name": "Python 3 (ipykernel)",
   "language": "python",
   "name": "python3"
  },
  "language_info": {
   "codemirror_mode": {
    "name": "ipython",
    "version": 3
   },
   "file_extension": ".py",
   "mimetype": "text/x-python",
   "name": "python",
   "nbconvert_exporter": "python",
   "pygments_lexer": "ipython3",
   "version": "3.10.2"
  }
 },
 "nbformat": 4,
 "nbformat_minor": 5
}
